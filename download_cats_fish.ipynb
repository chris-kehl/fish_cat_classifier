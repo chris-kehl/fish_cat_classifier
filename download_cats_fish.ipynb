{
  "nbformat": 4,
  "nbformat_minor": 0,
  "metadata": {
    "colab": {
      "name": "download_cats_fish.ipynb",
      "provenance": [],
      "authorship_tag": "ABX9TyOYoFy2BgkdlRDZIN9AZNRD",
      "include_colab_link": true
    },
    "kernelspec": {
      "display_name": "Python 3",
      "name": "python3"
    },
    "language_info": {
      "name": "python"
    }
  },
  "cells": [
    {
      "cell_type": "markdown",
      "metadata": {
        "id": "view-in-github",
        "colab_type": "text"
      },
      "source": [
        "<a href=\"https://colab.research.google.com/github/chris-kehl/fish_cat_classifier/blob/main/download_cats_fish.ipynb\" target=\"_parent\"><img src=\"https://colab.research.google.com/assets/colab-badge.svg\" alt=\"Open In Colab\"/></a>"
      ]
    },
    {
      "cell_type": "code",
      "metadata": {
        "colab": {
          "base_uri": "https://localhost:8080/"
        },
        "id": "JxAmEPNdRj9n",
        "outputId": "66773aa8-b2a9-4a59-9f4b-754434eca9de"
      },
      "source": [
        "from google.colab import drive\n",
        "drive.mount(\"/content/drive\")"
      ],
      "execution_count": 6,
      "outputs": [
        {
          "output_type": "stream",
          "text": [
            "Drive already mounted at /content/drive; to attempt to forcibly remount, call drive.mount(\"/content/drive\", force_remount=True).\n"
          ],
          "name": "stdout"
        }
      ]
    },
    {
      "cell_type": "code",
      "metadata": {
        "colab": {
          "base_uri": "https://localhost:8080/",
          "height": 37
        },
        "id": "EiGj4QKpRnrG",
        "outputId": "3e0698d4-43b7-49c0-ffde-80a7116bc704"
      },
      "source": [
        "import os\n",
        "import sys\n",
        "os.getcwd()"
      ],
      "execution_count": 7,
      "outputs": [
        {
          "output_type": "execute_result",
          "data": {
            "application/vnd.google.colaboratory.intrinsic+json": {
              "type": "string"
            },
            "text/plain": [
              "'/content/drive/My Drive/cat_fish'"
            ]
          },
          "metadata": {
            "tags": []
          },
          "execution_count": 7
        }
      ]
    },
    {
      "cell_type": "code",
      "metadata": {
        "id": "Z9GzkYtVRsmu"
      },
      "source": [
        "os.chdir('/content/drive/MyDrive/cat_fish')"
      ],
      "execution_count": 8,
      "outputs": []
    },
    {
      "cell_type": "code",
      "metadata": {
        "colab": {
          "base_uri": "https://localhost:8080/",
          "height": 37
        },
        "id": "R24NI1NdSB1I",
        "outputId": "e3b91f0c-aa1e-42e9-9ce1-6095d361c622"
      },
      "source": [
        "os.getcwd()"
      ],
      "execution_count": 9,
      "outputs": [
        {
          "output_type": "execute_result",
          "data": {
            "application/vnd.google.colaboratory.intrinsic+json": {
              "type": "string"
            },
            "text/plain": [
              "'/content/drive/MyDrive/cat_fish'"
            ]
          },
          "metadata": {
            "tags": []
          },
          "execution_count": 9
        }
      ]
    },
    {
      "cell_type": "code",
      "metadata": {
        "colab": {
          "base_uri": "https://localhost:8080/",
          "height": 796
        },
        "id": "QLfFzeIrMXLY",
        "outputId": "9ed713ae-fc53-4c9b-d97a-a738b70b07a5"
      },
      "source": [
        "# imports all the necessary libraries\n",
        "import urllib3\n",
        "from urllib.parse import urlparse\n",
        "import pandas as pd\n",
        "import itertools\n",
        "import shutil\n",
        "\n",
        "from urllib3.util import Retry\n",
        "\n",
        "urllib3.disable_warnings(urllib3.exceptions.InsecureRequestWarning)\n",
        "\n",
        "classes = [\"cat\", \"fish\"]\n",
        "set_types = [\"train\", \"test\", \"val\"]\n",
        "\n",
        "def download_image(url, klass, data_type):\n",
        "    basename = os.path.basename(urlparse(url).path)\n",
        "    filename = \"{}/{}/{}\".format(data_type, klass, basename)\n",
        "    if not os.path.exists(filename):\n",
        "        try: \n",
        "            http = urllib3.PoolManager(retries=Retry(connect=1, read=1, redirect=2))\n",
        "            with http.request(\"GET\", url, preload_content=False) as resp, open(\n",
        "                filename, \"wb\"\n",
        "            ) as out_file:\n",
        "                if resp.status == 200:\n",
        "                    shutil.copyfileobj(resp, out_file)\n",
        "                else:\n",
        "                    print(\"Error downloading {}\".format(url))\n",
        "            resp.release_conn()\n",
        "        except:\n",
        "            print(\"Error downloading {}\".format(url))\n",
        "\n",
        "\n",
        "if __name__ == \"__main__\":\n",
        "    if not os.path.exists(\"images.csv\"):\n",
        "        print(\"Error: can't find images.csv!\")\n",
        "        sys.exit(0)\n",
        "\n",
        "    # reads the csv file images.csv, downloads images in correct folder\n",
        "    imagesDF = pd.read_csv(\"images.csv\")\n",
        "\n",
        "    for set_type, klass in list(itertools.product(set_types, classes)):\n",
        "        path = \"./{}/{}\".format(set_type, klass)\n",
        "        if not os.path.exists(path):\n",
        "            print(\"Creating directory {}\".format(path))\n",
        "            os.makedirs(path)\n",
        "\n",
        "    print(\"Downloading {} images\".format(len(imagesDF)))\n",
        "\n",
        "    result = [\n",
        "        download_image(url, klass, data_type)\n",
        "        for url, klass, data_type in zip(\n",
        "            imagesDF[\"url\"], imagesDF[\"class\"], imagesDF[\"type\"]\n",
        "        )\n",
        "    ]\n",
        "    sys.exit(0)"
      ],
      "execution_count": 10,
      "outputs": [
        {
          "output_type": "stream",
          "text": [
            "Downloading 1393 images\n",
            "Error downloading http://jackmaryetc.com/Travel/US/Colorado/images/052cat.jpg\n",
            "Error downloading http://www.arar93.dsl.pipex.com/mds975/Images/c_ronald_ginger_cat_01.jpg\n",
            "Error downloading http://www.whitelightening.net/BuzzellTest/Creative/Tripp-TigerCat.jpg\n",
            "Error downloading http://www1.istockphoto.com/file_thumbview_approve/2754709/2/istockphoto_2754709_white_tiger.jpg\n",
            "Error downloading http://www.thebassethound.com/images/king1-sm.jpg\n",
            "Error downloading http://www.fishinginternational.com/location/canastamp/stamp3.gif\n",
            "Error downloading http://image59.webshots.com/459/3/97/24/2362397240073428963uOVsAS_ph.jpg\n",
            "Error downloading http://www.portlandsalmonfishing.com/images/prices_pg/coho_salmon_sm.jpg\n",
            "Error downloading http://www.akfishermanschoice.com/images/photos19_med.jpg\n",
            "Error downloading http://www.boknowsfishing.com/images/Silver1.jpg\n",
            "Error downloading http://www.akfishermanschoice.com/images/fishing_pics/silversalmonpic2.jpg\n",
            "Error downloading http://alaska.pinnacle-travel.org/images/big_king.jpg\n",
            "Error downloading http://www.plu.edu/~christdr/Krivers%20Guide%20Service/Silver%20Salmon_files/Dscf0018_018.jpg\n",
            "Error downloading http://www.foxbaylodge.com/images/2004/andrew-king-salmon.jpg\n",
            "Error downloading http://www.fishingoregon.net/images/PNGSsalmon07.jpg\n",
            "Error downloading http://www.portlandsalmonfishing.com/images/salmon_pg/group_salmon_fishing.jpg\n",
            "Error downloading http://spotted.charleston.net/images/12/photos/2007/11/15/gallery/3147.jpg\n",
            "Error downloading http://www.tyeeatercharters.com/images/coho_salmon.jpg\n",
            "Error downloading http://www.charterboatsbc.com/images/heros/salmon.jpg\n",
            "Error downloading http://www2.kpr.edu.on.ca/cdciw/biomes/king1.jpg\n",
            "Error downloading http://bonshellfishing.com/G.%20L.%20Salmon%20&%20Trout%20Description%20Pg%202007/Coho%20Salmon%20%20IMG_0970.JPG\n",
            "Error downloading http://img5.travelblog.org/Photos/45963/199454/t/1491860-Big-silver-0.jpg\n",
            "Error downloading http://www.zenwaiterwest.com/photos/july22-30%202005%20Salmon%20Fishing%20%20Ch%202/coho%20spring%20ling%20cod%20salmon%20toquart%20bay%20bc.jpg\n",
            "Error downloading http://jigsandreels.net/images/headers/header_1.jpg\n",
            "Error downloading http://www.profishingguide.com/Images/September_Nine_Big_COHO.jpg\n",
            "Error downloading http://image18.webshots.com/18/1/88/55/192318855dWPDtw_fs.jpg\n",
            "Error downloading http://www.trophycatchcharters.com/i/fish%20pictures/billsilver2.jpg\n",
            "Error downloading http://www.massethouse.com/picture_library/swfishing_gallery/Coho%20Fly_std.jpg\n",
            "Error downloading http://fishstjoseph.com/images/photos/wierenga.JPG\n",
            "Error downloading http://www.babyboomersguide.co.nz/site/babyboomers/images/trout_fishing/USA/Silver_King_salmon_1.jpg\n",
            "Error downloading http://www.fishinginternational.com/location/alaskarluk/patsy.gif\n",
            "Error downloading http://image20.webshots.com/21/1/81/99/192318199YhVkyf_fs.jpg\n",
            "Error downloading http://www.grayling-on-a-fly.com/images/man-salmon.jpg\n",
            "Error downloading http://alaskanadventures.biz/images/fishboat251.jpg\n",
            "Error downloading http://www.zoo.utoronto.ca/manuesteve/cohodigging1.jpg\n",
            "Error downloading http://www.flycastingguide.com/images/3478912/images/Chris%20with%20Coho%20Salmon.jpg\n"
          ],
          "name": "stdout"
        },
        {
          "output_type": "error",
          "ename": "SystemExit",
          "evalue": "ignored",
          "traceback": [
            "An exception has occurred, use %tb to see the full traceback.\n",
            "\u001b[0;31mSystemExit\u001b[0m\u001b[0;31m:\u001b[0m 0\n"
          ]
        },
        {
          "output_type": "stream",
          "text": [
            "/usr/local/lib/python3.7/dist-packages/IPython/core/interactiveshell.py:2890: UserWarning: To exit: use 'exit', 'quit', or Ctrl-D.\n",
            "  warn(\"To exit: use 'exit', 'quit', or Ctrl-D.\", stacklevel=1)\n"
          ],
          "name": "stderr"
        }
      ]
    }
  ]
}